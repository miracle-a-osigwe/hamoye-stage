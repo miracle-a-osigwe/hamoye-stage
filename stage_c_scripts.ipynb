{
  "nbformat": 4,
  "nbformat_minor": 0,
  "metadata": {
    "colab": {
      "name": "stage_c_scripts.ipynb",
      "provenance": [],
      "collapsed_sections": [],
      "authorship_tag": "ABX9TyPSa888vsqD3OOyz6Y9CQf4",
      "include_colab_link": true
    },
    "kernelspec": {
      "name": "python3",
      "display_name": "Python 3"
    }
  },
  "cells": [
    {
      "cell_type": "markdown",
      "metadata": {
        "id": "view-in-github",
        "colab_type": "text"
      },
      "source": [
        "<a href=\"https://colab.research.google.com/github/miracle-a-osigwe/hamoye-stage/blob/master/stage_c_scripts.ipynb\" target=\"_parent\"><img src=\"https://colab.research.google.com/assets/colab-badge.svg\" alt=\"Open In Colab\"/></a>"
      ]
    },
    {
      "cell_type": "markdown",
      "metadata": {
        "id": "e_S5wNbJghiI",
        "colab_type": "text"
      },
      "source": [
        "HAMOYE STAGE C QUIZ SCRIPTS<br>\n",
        "OSIGWE MIRACLE<br>\n",
        "C9013E\n"
      ]
    },
    {
      "cell_type": "code",
      "metadata": {
        "id": "45aq_n__CAMg",
        "colab_type": "code",
        "colab": {
          "base_uri": "https://localhost:8080/",
          "height": 74
        },
        "outputId": "1e5b99ea-8eff-457d-871b-a265bc2f0c54"
      },
      "source": [
        "#import the libraries\n",
        "import pandas as pd\n",
        "import numpy as np\n",
        "import matplotlib.pyplot as plt\n",
        "import seaborn as sns"
      ],
      "execution_count": 1,
      "outputs": [
        {
          "output_type": "stream",
          "text": [
            "/usr/local/lib/python3.6/dist-packages/statsmodels/tools/_testing.py:19: FutureWarning: pandas.util.testing is deprecated. Use the functions in the public API at pandas.testing instead.\n",
            "  import pandas.util.testing as tm\n"
          ],
          "name": "stderr"
        }
      ]
    },
    {
      "cell_type": "code",
      "metadata": {
        "id": "gVSplkOJDydh",
        "colab_type": "code",
        "colab": {}
      },
      "source": [
        "#loading the dataset\n",
        "df = pd.read_csv('https://archive.ics.uci.edu/ml/machine-learning-databases/00471/Data_for_UCI_named.csv')"
      ],
      "execution_count": 2,
      "outputs": []
    },
    {
      "cell_type": "code",
      "metadata": {
        "id": "dc76LscrRrZx",
        "colab_type": "code",
        "colab": {}
      },
      "source": [
        "#dropping the 'stab' column as it will be represented by the 'stabf' column\n",
        "df.drop('stab', axis=1, inplace=True)"
      ],
      "execution_count": 3,
      "outputs": []
    },
    {
      "cell_type": "code",
      "metadata": {
        "id": "7hSHw1_yRrqD",
        "colab_type": "code",
        "colab": {}
      },
      "source": [
        "#preprocessing and vector/matrix slicing\n",
        "X, y = df.iloc[:, :-1], df.iloc[:, -1]"
      ],
      "execution_count": 4,
      "outputs": []
    },
    {
      "cell_type": "code",
      "metadata": {
        "id": "3ywBeV98Rrtc",
        "colab_type": "code",
        "colab": {}
      },
      "source": [
        "#train test split\n",
        "from sklearn.model_selection import train_test_split\n",
        "x_train, x_test, y_train, y_test = train_test_split(X, y, test_size=0.2, random_state=1)"
      ],
      "execution_count": 5,
      "outputs": []
    },
    {
      "cell_type": "code",
      "metadata": {
        "id": "pT687vV5RrwF",
        "colab_type": "code",
        "colab": {}
      },
      "source": [
        "#Standard scaler\n",
        "from sklearn.preprocessing import StandardScaler\n",
        "scaler = StandardScaler()\n",
        "normalized_train_df = scaler.fit_transform(x_train)\n",
        "normalized_train_df = pd.DataFrame(normalized_train_df, columns = x_train.columns)\n",
        "\n",
        "normalized_test_df = scaler.transform(x_test)\n",
        "normalized_test_df = pd.DataFrame(normalized_test_df, columns=x_test.columns)"
      ],
      "execution_count": 6,
      "outputs": []
    },
    {
      "cell_type": "code",
      "metadata": {
        "id": "St3m7nLRRry4",
        "colab_type": "code",
        "colab": {}
      },
      "source": [
        "#model selections\n",
        "from sklearn.ensemble import RandomForestClassifier\n",
        "forest = RandomForestClassifier(random_state=1)\n",
        "forest.fit(normalized_train_df, y_train)\n",
        "forest_pred = forest.predict(normalized_test_df)"
      ],
      "execution_count": 7,
      "outputs": []
    },
    {
      "cell_type": "code",
      "metadata": {
        "id": "51V9nrryRr2S",
        "colab_type": "code",
        "colab": {
          "base_uri": "https://localhost:8080/",
          "height": 185
        },
        "outputId": "048afa47-8c72-4663-adde-b7a2c5b67bad"
      },
      "source": [
        "from sklearn.metrics import classification_report\n",
        "print(classification_report(y_test, forest_pred, digits=4))"
      ],
      "execution_count": 10,
      "outputs": [
        {
          "output_type": "stream",
          "text": [
            "              precision    recall  f1-score   support\n",
            "\n",
            "      stable     0.9191    0.8778    0.8980       712\n",
            "    unstable     0.9341    0.9573    0.9456      1288\n",
            "\n",
            "    accuracy                         0.9290      2000\n",
            "   macro avg     0.9266    0.9176    0.9218      2000\n",
            "weighted avg     0.9288    0.9290    0.9286      2000\n",
            "\n"
          ],
          "name": "stdout"
        }
      ]
    },
    {
      "cell_type": "code",
      "metadata": {
        "id": "fbigApbMR5e7",
        "colab_type": "code",
        "colab": {}
      },
      "source": [
        "#extra tree classifier\n",
        "from sklearn.ensemble import ExtraTreesClassifier\n",
        "tree = ExtraTreesClassifier(random_state=1)\n",
        "tree.fit(normalized_train_df, y_train)\n",
        "tree_pred = tree.predict(normalized_test_df)"
      ],
      "execution_count": 11,
      "outputs": []
    },
    {
      "cell_type": "code",
      "metadata": {
        "id": "hy-4GSmQR5iD",
        "colab_type": "code",
        "colab": {
          "base_uri": "https://localhost:8080/",
          "height": 185
        },
        "outputId": "327272d0-ba32-4fc7-828c-4d701ed3717a"
      },
      "source": [
        "#using the classifiation report for extra tree\n",
        "from sklearn.metrics import classification_report\n",
        "print(classification_report(y_test, tree_pred, zero_division=True, digits=6))"
      ],
      "execution_count": 12,
      "outputs": [
        {
          "output_type": "stream",
          "text": [
            "              precision    recall  f1-score   support\n",
            "\n",
            "      stable   0.940994  0.851124  0.893805       712\n",
            "    unstable   0.921829  0.970497  0.945537      1288\n",
            "\n",
            "    accuracy                       0.928000      2000\n",
            "   macro avg   0.931411  0.910810  0.919671      2000\n",
            "weighted avg   0.928652  0.928000  0.927121      2000\n",
            "\n"
          ],
          "name": "stdout"
        }
      ]
    },
    {
      "cell_type": "code",
      "metadata": {
        "id": "EllhYw7fR5nr",
        "colab_type": "code",
        "colab": {}
      },
      "source": [
        "#xgboost\n",
        "from xgboost import XGBClassifier\n",
        "extreme = XGBClassifier(random_state=1)\n",
        "extreme.fit(normalized_train_df, y_train)\n",
        "extreme_pred = extreme.predict(normalized_test_df)"
      ],
      "execution_count": 13,
      "outputs": []
    },
    {
      "cell_type": "code",
      "metadata": {
        "id": "Ace7eEGjR5rl",
        "colab_type": "code",
        "colab": {
          "base_uri": "https://localhost:8080/",
          "height": 185
        },
        "outputId": "254f8d60-1607-465b-83f2-7ef1c1b58575"
      },
      "source": [
        "#Classification\n",
        "print(classification_report(y_test, extreme_pred, digits=4))"
      ],
      "execution_count": 14,
      "outputs": [
        {
          "output_type": "stream",
          "text": [
            "              precision    recall  f1-score   support\n",
            "\n",
            "      stable     0.9206    0.8469    0.8822       712\n",
            "    unstable     0.9190    0.9596    0.9389      1288\n",
            "\n",
            "    accuracy                         0.9195      2000\n",
            "   macro avg     0.9198    0.9033    0.9105      2000\n",
            "weighted avg     0.9195    0.9195    0.9187      2000\n",
            "\n"
          ],
          "name": "stdout"
        }
      ]
    },
    {
      "cell_type": "code",
      "metadata": {
        "id": "mOlPh5xHR5wJ",
        "colab_type": "code",
        "colab": {}
      },
      "source": [
        "#lightgbm\n",
        "from lightgbm import LGBMClassifier\n",
        "light = LGBMClassifier(random_state=1)\n",
        "light.fit(normalized_train_df, y_train)\n",
        "light_pred = light.predict(normalized_test_df)"
      ],
      "execution_count": 15,
      "outputs": []
    },
    {
      "cell_type": "code",
      "metadata": {
        "id": "kcwSO48GR5ul",
        "colab_type": "code",
        "colab": {
          "base_uri": "https://localhost:8080/",
          "height": 185
        },
        "outputId": "0a1f1d7f-83ce-4851-f947-898706bee02a"
      },
      "source": [
        "#Classification\n",
        "print(classification_report(y_test, light_pred, digits=4))"
      ],
      "execution_count": 16,
      "outputs": [
        {
          "output_type": "stream",
          "text": [
            "              precision    recall  f1-score   support\n",
            "\n",
            "      stable     0.9297    0.8919    0.9104       712\n",
            "    unstable     0.9415    0.9627    0.9520      1288\n",
            "\n",
            "    accuracy                         0.9375      2000\n",
            "   macro avg     0.9356    0.9273    0.9312      2000\n",
            "weighted avg     0.9373    0.9375    0.9372      2000\n",
            "\n"
          ],
          "name": "stdout"
        }
      ]
    },
    {
      "cell_type": "code",
      "metadata": {
        "id": "WdtwG90_R5lx",
        "colab_type": "code",
        "colab": {}
      },
      "source": [
        "#Hyperparameters\n",
        "\n",
        "n_estimators = [50, 100, 300, 500, 1000]\n",
        "min_samples_split = [2, 3, 5, 7, 9]\n",
        "min_samples_leaf = [1, 2, 4, 6, 8]\n",
        "max_features = ['auto', 'sqrt', 'log2', None] \n",
        "hyperparameter_grid = {'n_estimators': n_estimators,\n",
        "                       'min_samples_leaf': min_samples_leaf,\n",
        "                       'min_samples_split': min_samples_split,\n",
        "                       'max_features': max_features}"
      ],
      "execution_count": 17,
      "outputs": []
    },
    {
      "cell_type": "code",
      "metadata": {
        "id": "GeqXBYlORr5d",
        "colab_type": "code",
        "colab": {
          "base_uri": "https://localhost:8080/",
          "height": 91
        },
        "outputId": "5bbebcee-5b13-4f7a-9152-b8ff695d3b35"
      },
      "source": [
        "#Randomised Search Cross Validation\n",
        "from sklearn.model_selection import RandomizedSearchCV\n",
        "from sklearn.ensemble import ExtraTreesClassifier\n",
        "\n",
        "tree2 = ExtraTreesClassifier(random_state=1)\n",
        "clf = RandomizedSearchCV(tree2, hyperparameter_grid, cv=5, n_iter=10, scoring = 'accuracy', n_jobs = -1, verbose = 1, random_state=1)\n",
        "search_result = clf.fit(normalized_train_df, y_train)"
      ],
      "execution_count": 20,
      "outputs": [
        {
          "output_type": "stream",
          "text": [
            "Fitting 5 folds for each of 10 candidates, totalling 50 fits\n"
          ],
          "name": "stdout"
        },
        {
          "output_type": "stream",
          "text": [
            "[Parallel(n_jobs=-1)]: Using backend LokyBackend with 2 concurrent workers.\n",
            "[Parallel(n_jobs=-1)]: Done  46 tasks      | elapsed:  1.3min\n",
            "[Parallel(n_jobs=-1)]: Done  50 out of  50 | elapsed:  1.4min finished\n"
          ],
          "name": "stderr"
        }
      ]
    },
    {
      "cell_type": "code",
      "metadata": {
        "id": "mwoXE9NLRr8g",
        "colab_type": "code",
        "colab": {
          "base_uri": "https://localhost:8080/",
          "height": 91
        },
        "outputId": "d0a8875b-d6d2-48de-bc35-5d15e05057a7"
      },
      "source": [
        "#checking for the best parameter for the model\n",
        "search_result.best_params_"
      ],
      "execution_count": 21,
      "outputs": [
        {
          "output_type": "execute_result",
          "data": {
            "text/plain": [
              "{'max_features': None,\n",
              " 'min_samples_leaf': 8,\n",
              " 'min_samples_split': 2,\n",
              " 'n_estimators': 1000}"
            ]
          },
          "metadata": {
            "tags": []
          },
          "execution_count": 21
        }
      ]
    },
    {
      "cell_type": "code",
      "metadata": {
        "id": "r4IzMLnbRr-l",
        "colab_type": "code",
        "colab": {}
      },
      "source": [
        "#experimenting with this parameter to test the model's performance\n",
        "tuned_tree = ExtraTreesClassifier(n_estimators=1000, min_samples_split=2, \n",
        "                                 min_samples_leaf=8, max_features=None, random_state=1)\n",
        "tuned_tree.fit(normalized_train_df, y_train)\n",
        "tuned_tree_pred = tuned_tree.predict(normalized_test_df)"
      ],
      "execution_count": 24,
      "outputs": []
    },
    {
      "cell_type": "code",
      "metadata": {
        "id": "xap208L8RsDX",
        "colab_type": "code",
        "colab": {
          "base_uri": "https://localhost:8080/",
          "height": 185
        },
        "outputId": "5a33b2f3-94a9-45c5-c018-240dda0ca8a9"
      },
      "source": [
        "#classification report for this hyperparameter tuning\n",
        "print(classification_report(y_test, tuned_tree_pred, digits=4))"
      ],
      "execution_count": 26,
      "outputs": [
        {
          "output_type": "stream",
          "text": [
            "              precision    recall  f1-score   support\n",
            "\n",
            "      stable     0.9211    0.8694    0.8945       712\n",
            "    unstable     0.9300    0.9589    0.9442      1288\n",
            "\n",
            "    accuracy                         0.9270      2000\n",
            "   macro avg     0.9256    0.9141    0.9193      2000\n",
            "weighted avg     0.9268    0.9270    0.9265      2000\n",
            "\n"
          ],
          "name": "stdout"
        }
      ]
    },
    {
      "cell_type": "code",
      "metadata": {
        "id": "bVnm5Oy_RsF2",
        "colab_type": "code",
        "colab": {
          "base_uri": "https://localhost:8080/",
          "height": 265
        },
        "outputId": "7791d56a-95c1-4719-fc5b-8a74912cd7af"
      },
      "source": [
        "#plot graph of feature importance\n",
        "feat_importance = pd.Series(tuned_tree.feature_importances_, index=X.columns)\n",
        "feat_importance.nlargest(10).plot(kind='barh')\n",
        "plt.show()"
      ],
      "execution_count": 27,
      "outputs": [
        {
          "output_type": "display_data",
          "data": {
            "image/png": "[encoded data removed]",
            "text/plain": [
              "<Figure size 432x288 with 1 Axes>"
            ]
          },
          "metadata": {
            "tags": [],
            "needs_background": "light"
          }
        }
      ]
    },
    {
      "cell_type": "markdown",
      "metadata": {
        "id": "TnjJ826fg7Zz",
        "colab_type": "text"
      },
      "source": [
        "THANKS"
      ]
    }
  ]
}